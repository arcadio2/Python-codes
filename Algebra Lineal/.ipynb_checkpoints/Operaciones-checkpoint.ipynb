{
 "cells": [
  {
   "cell_type": "code",
   "execution_count": 1,
   "id": "ca1681ef",
   "metadata": {},
   "outputs": [],
   "source": [
    "import numpy as np"
   ]
  },
  {
   "cell_type": "code",
   "execution_count": 2,
   "id": "cecb5b26",
   "metadata": {},
   "outputs": [],
   "source": [
    "escalar = 5.76\n",
    "vector = np.array([3,4,5,6])\n",
    "matriz = np.array([[1,2],[4,6],[7,9]])\n",
    "tensor = np.array([ \n",
    "    [[1,2,3],[4,5,6],[7,8,9]],\n",
    "    [[10,11,12],[13,14,15],[16,17,18]],\n",
    "    [[19,20,21],[22,23,24],[25,26,27]] \n",
    "])"
   ]
  },
  {
   "cell_type": "code",
   "execution_count": 4,
   "id": "fe859034",
   "metadata": {},
   "outputs": [
    {
     "name": "stdout",
     "output_type": "stream",
     "text": [
      "[3 4 5 6]\n"
     ]
    }
   ],
   "source": [
    "vectorT = vector.T\n",
    "print(vectorT)"
   ]
  },
  {
   "cell_type": "code",
   "execution_count": 7,
   "id": "803d92dc",
   "metadata": {},
   "outputs": [
    {
     "name": "stdout",
     "output_type": "stream",
     "text": [
      "[[1 4 7]\n",
      " [2 6 9]]\n",
      "(3, 2)\n",
      "(2, 3)\n"
     ]
    }
   ],
   "source": [
    "matrizT = matriz.T\n",
    "print(matrizT)\n",
    "print(matriz.shape)\n",
    "print(matrizT.shape)"
   ]
  },
  {
   "cell_type": "code",
   "execution_count": 9,
   "id": "bbfe3eb0",
   "metadata": {},
   "outputs": [
    {
     "name": "stdout",
     "output_type": "stream",
     "text": [
      "[[[ 1 10 19]\n",
      "  [ 4 13 22]\n",
      "  [ 7 16 25]]\n",
      "\n",
      " [[ 2 11 20]\n",
      "  [ 5 14 23]\n",
      "  [ 8 17 26]]\n",
      "\n",
      " [[ 3 12 21]\n",
      "  [ 6 15 24]\n",
      "  [ 9 18 27]]]\n",
      "____________\n",
      "[[[ 1  2  3]\n",
      "  [ 4  5  6]\n",
      "  [ 7  8  9]]\n",
      "\n",
      " [[10 11 12]\n",
      "  [13 14 15]\n",
      "  [16 17 18]]\n",
      "\n",
      " [[19 20 21]\n",
      "  [22 23 24]\n",
      "  [25 26 27]]]\n"
     ]
    }
   ],
   "source": [
    "tensor_T = tensor.T\n",
    "print(tensor.T)\n",
    "print(\"____________\")\n",
    "print(tensor)"
   ]
  },
  {
   "cell_type": "code",
   "execution_count": 11,
   "id": "9c36751d",
   "metadata": {},
   "outputs": [
    {
     "name": "stdout",
     "output_type": "stream",
     "text": [
      "[[1 2]\n",
      " [4 6]\n",
      " [7 9]]\n"
     ]
    }
   ],
   "source": [
    "matriz_t_t = matrizT.T\n",
    "print(matriz_t_t)"
   ]
  },
  {
   "cell_type": "code",
   "execution_count": 15,
   "id": "0491e61c",
   "metadata": {},
   "outputs": [
    {
     "name": "stdout",
     "output_type": "stream",
     "text": [
      "[[ 2  4]\n",
      " [ 7 10]\n",
      " [12 15]]\n"
     ]
    }
   ],
   "source": [
    "A = np.array([[1,2],[3,4],[5,6]])\n",
    "B = matriz\n",
    "C = A + B\n",
    "print(C)"
   ]
  },
  {
   "cell_type": "code",
   "execution_count": 16,
   "id": "c3fb99eb",
   "metadata": {},
   "outputs": [
    {
     "data": {
      "text/plain": [
       "array([[ 6.76,  7.76],\n",
       "       [ 9.76, 11.76],\n",
       "       [12.76, 14.76]])"
      ]
     },
     "execution_count": 16,
     "metadata": {},
     "output_type": "execute_result"
    }
   ],
   "source": [
    "D = matriz + escalar\n",
    "D"
   ]
  },
  {
   "cell_type": "code",
   "execution_count": 18,
   "id": "58ceefd4",
   "metadata": {},
   "outputs": [
    {
     "data": {
      "text/plain": [
       "array([[ 1,  2,  3,  4,  5],\n",
       "       [ 6,  7,  8,  9, 10],\n",
       "       [11, 12, 13, 14, 15],\n",
       "       [16, 17, 18, 19, 20],\n",
       "       [21, 22, 23, 24, 25]])"
      ]
     },
     "execution_count": 18,
     "metadata": {},
     "output_type": "execute_result"
    }
   ],
   "source": [
    "matriz5 = np.array([[1,2,3,4,5],[6,7,8,9,10],[11,12,13,14,15],[16,17,18,19,20],[21,22,23,24,25]])\n",
    "matriz5"
   ]
  },
  {
   "cell_type": "code",
   "execution_count": 19,
   "id": "b28f4569",
   "metadata": {},
   "outputs": [
    {
     "data": {
      "text/plain": [
       "array([[ 1,  6, 11, 16, 21],\n",
       "       [ 2,  7, 12, 17, 22],\n",
       "       [ 3,  8, 13, 18, 23],\n",
       "       [ 4,  9, 14, 19, 24],\n",
       "       [ 5, 10, 15, 20, 25]])"
      ]
     },
     "execution_count": 19,
     "metadata": {},
     "output_type": "execute_result"
    }
   ],
   "source": [
    "matriz5_t= matriz5.T\n",
    "matriz5_t"
   ]
  },
  {
   "cell_type": "markdown",
   "id": "0fafd124",
   "metadata": {},
   "source": [
    "### Suma de matrices, diferentes dimensiones"
   ]
  },
  {
   "cell_type": "code",
   "execution_count": 22,
   "id": "6575dd8f",
   "metadata": {},
   "outputs": [
    {
     "data": {
      "text/plain": [
       "array([[ 4,  8, 12],\n",
       "       [ 5, 10, 14]])"
      ]
     },
     "execution_count": 22,
     "metadata": {},
     "output_type": "execute_result"
    }
   ],
   "source": [
    "vector = np.array([3,4,5])\n",
    "matriz = np.array([[1,2],[4,6],[7,9]])\n",
    "suma = vector + matriz.T\n",
    "print(matriz)\n",
    "suma"
   ]
  },
  {
   "cell_type": "code",
   "execution_count": null,
   "id": "8d521086",
   "metadata": {},
   "outputs": [],
   "source": []
  }
 ],
 "metadata": {
  "kernelspec": {
   "display_name": "Python 3",
   "language": "python",
   "name": "python3"
  },
  "language_info": {
   "codemirror_mode": {
    "name": "ipython",
    "version": 3
   },
   "file_extension": ".py",
   "mimetype": "text/x-python",
   "name": "python",
   "nbconvert_exporter": "python",
   "pygments_lexer": "ipython3",
   "version": "3.8.8"
  }
 },
 "nbformat": 4,
 "nbformat_minor": 5
}
